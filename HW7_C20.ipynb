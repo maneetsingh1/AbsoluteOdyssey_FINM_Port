{
 "cells": [
  {
   "cell_type": "markdown",
   "id": "9fb19cf6",
   "metadata": {},
   "source": [
    "# C20 Team: Aryamaaan Jena, Hemaang Kotta, Shubham Agarwal, Maneet Singh"
   ]
  },
  {
   "cell_type": "code",
   "execution_count": 58,
   "id": "8b4119fa",
   "metadata": {},
   "outputs": [],
   "source": [
    "import numpy as np\n",
    "import pandas as pd\n",
    "import seaborn as sb\n",
    "import seaborn as sns\n",
    "import matplotlib.pyplot as plt\n",
    "import statsmodels.api as sm\n",
    "from sklearn.linear_model import LinearRegression\n",
    "from arch.univariate import GARCH, EWMAVariance \n",
    "from scipy.stats import kurtosis\n",
    "from scipy.stats import skew\n",
    "from scipy.stats import norm\n",
    "import scipy\n",
    "from arch import arch_model"
   ]
  },
  {
   "cell_type": "markdown",
   "id": "720522f8",
   "metadata": {},
   "source": [
    "Reading DataFrame"
   ]
  },
  {
   "cell_type": "code",
   "execution_count": 59,
   "id": "f8170eca",
   "metadata": {},
   "outputs": [],
   "source": [
    "signals = pd.read_excel(\"/Users/hemaangkotta/Downloads/Portfolio/HW7/gmo_analysis_data.xlsx\", sheet_name = 'signals')\n",
    "signals = signals.set_index('Date')\n",
    "r_total = pd.read_excel(\"/Users/hemaangkotta/Downloads/Portfolio/HW7/gmo_analysis_data.xlsx\", sheet_name = 'returns (total)')\n",
    "r_total = r_total.set_index('Date')\n",
    "rf = pd.read_excel(\"/Users/hemaangkotta/Downloads/Portfolio/HW7/gmo_analysis_data.xlsx\", sheet_name = 'risk-free rate')\n",
    "rf = rf.set_index('Date')\n",
    "r_excess = r_total.subtract(rf.US3M,axis='rows')"
   ]
  },
  {
   "cell_type": "markdown",
   "id": "cd1f1eec",
   "metadata": {},
   "source": [
    "Summary Stats"
   ]
  },
  {
   "cell_type": "code",
   "execution_count": 46,
   "id": "1c49ad2d",
   "metadata": {},
   "outputs": [],
   "source": [
    "def summary_stats(df, annual_fac):\n",
    "    report = pd.DataFrame()\n",
    "    report['Mean'] = df.mean() * annual_fac\n",
    "    report['Vol'] = df.std() * np.sqrt(annual_fac)\n",
    "    report['Sharpe'] = report['Mean'] / report['Vol']\n",
    "    return round(report, 4)"
   ]
  },
  {
   "cell_type": "code",
   "execution_count": 54,
   "id": "c5928c41",
   "metadata": {},
   "outputs": [],
   "source": [
    "r_excess = r_excess.dropna()"
   ]
  },
  {
   "cell_type": "markdown",
   "id": "327c72a6",
   "metadata": {},
   "source": [
    "### 2.1.Calculate the mean, volatility, and Sharpe ratio for GMWAX. Do this for three samples:• from inception through 2011• 2012-present• inception - present. Has the mean, vol, and Sharpe changed much since the case?"
   ]
  },
  {
   "cell_type": "code",
   "execution_count": 71,
   "id": "481b6f03",
   "metadata": {},
   "outputs": [
    {
     "data": {
      "text/html": [
       "<div>\n",
       "<style scoped>\n",
       "    .dataframe tbody tr th:only-of-type {\n",
       "        vertical-align: middle;\n",
       "    }\n",
       "\n",
       "    .dataframe tbody tr th {\n",
       "        vertical-align: top;\n",
       "    }\n",
       "\n",
       "    .dataframe thead th {\n",
       "        text-align: right;\n",
       "    }\n",
       "</style>\n",
       "<table border=\"1\" class=\"dataframe\">\n",
       "  <thead>\n",
       "    <tr style=\"text-align: right;\">\n",
       "      <th></th>\n",
       "      <th>Mean</th>\n",
       "      <th>Vol</th>\n",
       "      <th>Sharpe</th>\n",
       "    </tr>\n",
       "  </thead>\n",
       "  <tbody>\n",
       "    <tr>\n",
       "      <th>Inception-2011</th>\n",
       "      <td>0.0158</td>\n",
       "      <td>0.1250</td>\n",
       "      <td>0.1266</td>\n",
       "    </tr>\n",
       "    <tr>\n",
       "      <th>2012-Present</th>\n",
       "      <td>0.0593</td>\n",
       "      <td>0.0853</td>\n",
       "      <td>0.6952</td>\n",
       "    </tr>\n",
       "    <tr>\n",
       "      <th>Inception-Present</th>\n",
       "      <td>0.0329</td>\n",
       "      <td>0.1111</td>\n",
       "      <td>0.2964</td>\n",
       "    </tr>\n",
       "  </tbody>\n",
       "</table>\n",
       "</div>"
      ],
      "text/plain": [
       "                     Mean     Vol  Sharpe\n",
       "Inception-2011     0.0158  0.1250  0.1266\n",
       "2012-Present       0.0593  0.0853  0.6952\n",
       "Inception-Present  0.0329  0.1111  0.2964"
      ]
     },
     "execution_count": 71,
     "metadata": {},
     "output_type": "execute_result"
    }
   ],
   "source": [
    "s2011 = summary_stats(r_excess.loc[:\"2011\",[\"GMWAX\"]],12)\n",
    "s2011 = s2011.rename(index={\"GMWAX\": \"Inception-2011\"})\n",
    "s2012 = summary_stats(r_excess.loc[\"2012\":,[\"GMWAX\"]],12)\n",
    "s2012 = s2012.rename(index={\"GMWAX\": \"2012-Present\"})\n",
    "s_all = summary_stats(r_excess[[\"GMWAX\"]],12)\n",
    "s_all = s_all.rename(index={\"GMWAX\": \"Inception-Present\"})\n",
    "summary  = pd.concat([s2011,s2012,s_all])\n",
    "summary"
   ]
  },
  {
   "cell_type": "markdown",
   "id": "05cc09c3",
   "metadata": {},
   "source": [
    "Yes the Mean, Vol and Sharpe did change, the Mean excess returns increased from 1.58% to 5.93% and Vol has decreased from 12.50% to 8.53%"
   ]
  },
  {
   "cell_type": "markdown",
   "id": "524a9d97",
   "metadata": {},
   "source": [
    "### 2.2 GMO believes a risk premium is compensation for a security's tendency to lose money at bad times\". For all three samples, analyze extreme scenarios by looking at Min return, 5th percentile (VaR-5th),Maximum drawdown1"
   ]
  },
  {
   "cell_type": "code",
   "execution_count": 191,
   "id": "013bac30",
   "metadata": {},
   "outputs": [],
   "source": [
    "def summary_stats2(df,df2, annual_fac):\n",
    "    report = pd.DataFrame()\n",
    "    report['Min Return'] = df.min()\n",
    "    report['VaR'] = df.quantile(0.05)\n",
    "    wealth_index = 1000*(1+df2).cumprod()\n",
    "    previous_peaks = wealth_index.cummax()\n",
    "    drawdown = (wealth_index - previous_peaks)/previous_peaks\n",
    "    report[\"Drawdown\"]= drawdown.min()\n",
    "    return round(report, 4)"
   ]
  },
  {
   "cell_type": "code",
   "execution_count": 192,
   "id": "30ba6019",
   "metadata": {},
   "outputs": [
    {
     "data": {
      "text/html": [
       "<div>\n",
       "<style scoped>\n",
       "    .dataframe tbody tr th:only-of-type {\n",
       "        vertical-align: middle;\n",
       "    }\n",
       "\n",
       "    .dataframe tbody tr th {\n",
       "        vertical-align: top;\n",
       "    }\n",
       "\n",
       "    .dataframe thead th {\n",
       "        text-align: right;\n",
       "    }\n",
       "</style>\n",
       "<table border=\"1\" class=\"dataframe\">\n",
       "  <thead>\n",
       "    <tr style=\"text-align: right;\">\n",
       "      <th></th>\n",
       "      <th>Min Return</th>\n",
       "      <th>VaR</th>\n",
       "      <th>Drawdown</th>\n",
       "    </tr>\n",
       "  </thead>\n",
       "  <tbody>\n",
       "    <tr>\n",
       "      <th>Inception-2011</th>\n",
       "      <td>-0.1492</td>\n",
       "      <td>-0.0598</td>\n",
       "      <td>-0.3552</td>\n",
       "    </tr>\n",
       "    <tr>\n",
       "      <th>2012-Present</th>\n",
       "      <td>-0.1187</td>\n",
       "      <td>-0.0306</td>\n",
       "      <td>-0.1675</td>\n",
       "    </tr>\n",
       "    <tr>\n",
       "      <th>Inception-Present</th>\n",
       "      <td>-0.1492</td>\n",
       "      <td>-0.0449</td>\n",
       "      <td>-0.3552</td>\n",
       "    </tr>\n",
       "  </tbody>\n",
       "</table>\n",
       "</div>"
      ],
      "text/plain": [
       "                   Min Return     VaR  Drawdown\n",
       "Inception-2011        -0.1492 -0.0598   -0.3552\n",
       "2012-Present          -0.1187 -0.0306   -0.1675\n",
       "Inception-Present     -0.1492 -0.0449   -0.3552"
      ]
     },
     "execution_count": 192,
     "metadata": {},
     "output_type": "execute_result"
    }
   ],
   "source": [
    "s2011 = summary_stats2(r_excess.loc[:\"2011\",[\"GMWAX\"]],r_total.loc[:\"2011\",[\"GMWAX\"]],12)\n",
    "s2011 = s2011.rename(index={\"GMWAX\": \"Inception-2011\"})\n",
    "s2012 = summary_stats2(r_excess.loc[\"2012\":,[\"GMWAX\"]],r_total.loc[\"2012\":,[\"GMWAX\"]],12)\n",
    "s2012 = s2012.rename(index={\"GMWAX\": \"2012-Present\"})\n",
    "s_all = summary_stats2(r_excess[[\"GMWAX\"]],r_total[[\"GMWAX\"]],12)\n",
    "s_all = s_all.rename(index={\"GMWAX\": \"Inception-Present\"})\n",
    "summary2  = pd.concat([s2011,s2012,s_all])\n",
    "summary2"
   ]
  },
  {
   "cell_type": "code",
   "execution_count": 193,
   "id": "2dfce50a",
   "metadata": {},
   "outputs": [
    {
     "data": {
      "text/html": [
       "<div>\n",
       "<style scoped>\n",
       "    .dataframe tbody tr th:only-of-type {\n",
       "        vertical-align: middle;\n",
       "    }\n",
       "\n",
       "    .dataframe tbody tr th {\n",
       "        vertical-align: top;\n",
       "    }\n",
       "\n",
       "    .dataframe thead th {\n",
       "        text-align: right;\n",
       "    }\n",
       "</style>\n",
       "<table border=\"1\" class=\"dataframe\">\n",
       "  <thead>\n",
       "    <tr style=\"text-align: right;\">\n",
       "      <th></th>\n",
       "      <th>Mean</th>\n",
       "      <th>Vol</th>\n",
       "      <th>Sharpe</th>\n",
       "      <th>Min Return</th>\n",
       "      <th>VaR</th>\n",
       "      <th>Drawdown</th>\n",
       "    </tr>\n",
       "  </thead>\n",
       "  <tbody>\n",
       "    <tr>\n",
       "      <th>Inception-2011</th>\n",
       "      <td>0.0158</td>\n",
       "      <td>0.1250</td>\n",
       "      <td>0.1266</td>\n",
       "      <td>-0.1492</td>\n",
       "      <td>-0.0598</td>\n",
       "      <td>-0.3552</td>\n",
       "    </tr>\n",
       "    <tr>\n",
       "      <th>2012-Present</th>\n",
       "      <td>0.0593</td>\n",
       "      <td>0.0853</td>\n",
       "      <td>0.6952</td>\n",
       "      <td>-0.1187</td>\n",
       "      <td>-0.0306</td>\n",
       "      <td>-0.1675</td>\n",
       "    </tr>\n",
       "    <tr>\n",
       "      <th>Inception-Present</th>\n",
       "      <td>0.0329</td>\n",
       "      <td>0.1111</td>\n",
       "      <td>0.2964</td>\n",
       "      <td>-0.1492</td>\n",
       "      <td>-0.0449</td>\n",
       "      <td>-0.3552</td>\n",
       "    </tr>\n",
       "  </tbody>\n",
       "</table>\n",
       "</div>"
      ],
      "text/plain": [
       "                     Mean     Vol  Sharpe  Min Return     VaR  Drawdown\n",
       "Inception-2011     0.0158  0.1250  0.1266     -0.1492 -0.0598   -0.3552\n",
       "2012-Present       0.0593  0.0853  0.6952     -0.1187 -0.0306   -0.1675\n",
       "Inception-Present  0.0329  0.1111  0.2964     -0.1492 -0.0449   -0.3552"
      ]
     },
     "execution_count": 193,
     "metadata": {},
     "output_type": "execute_result"
    }
   ],
   "source": [
    "summary3 = summary.join(summary2)\n",
    "summary3"
   ]
  },
  {
   "cell_type": "markdown",
   "id": "1a74c418",
   "metadata": {},
   "source": [
    "(a) Does GMWAX have high or low tail-risk as seen by these stats?"
   ]
  },
  {
   "cell_type": "markdown",
   "id": "f7eddc9a",
   "metadata": {},
   "source": [
    "Yes it has high tail risks.It has a VaR of 5.98% for a mean returns of 1.58%"
   ]
  },
  {
   "cell_type": "markdown",
   "id": "e944112a",
   "metadata": {},
   "source": [
    "(b)Does that vary much across the two subsamples?"
   ]
  },
  {
   "cell_type": "markdown",
   "id": "da77983d",
   "metadata": {},
   "source": [
    "VaR has decreased from 5.98% to 3.06% in the two sub samples."
   ]
  },
  {
   "cell_type": "markdown",
   "id": "348c2bdf",
   "metadata": {},
   "source": [
    "### For all three samples, regress excess returns of GMWAX on excess returns of SPY."
   ]
  },
  {
   "cell_type": "markdown",
   "id": "37d93dc7",
   "metadata": {},
   "source": [
    "(a)Report the estimated alpha, beta, and r-squared."
   ]
  },
  {
   "cell_type": "code",
   "execution_count": 183,
   "id": "a48db6bd",
   "metadata": {},
   "outputs": [],
   "source": [
    "def regression(y_df,x_df,time):\n",
    "    reg_stats = pd.DataFrame(data = None)\n",
    "    # Drop the NAs in y\n",
    "    y = y_df.dropna()\n",
    "    # Align the X with y \n",
    "    X = sm.add_constant(x_df.loc[y.index])\n",
    "    reg = sm.OLS(y, X).fit()\n",
    "    reg_stats.loc[time,'alpha'] = reg.params[0]*12\n",
    "    reg_stats.loc[time,'beta'] = reg.params[1]\n",
    "    reg_stats.loc[time,\"R-Squared\"]=reg.rsquared\n",
    "    reg_stats.loc[time,\"IR\"]=reg.params[0]*pow(12,0.5)/reg.resid.std()\n",
    "    return reg_stats"
   ]
  },
  {
   "cell_type": "code",
   "execution_count": 109,
   "id": "2314ee0c",
   "metadata": {},
   "outputs": [
    {
     "data": {
      "text/html": [
       "<div>\n",
       "<style scoped>\n",
       "    .dataframe tbody tr th:only-of-type {\n",
       "        vertical-align: middle;\n",
       "    }\n",
       "\n",
       "    .dataframe tbody tr th {\n",
       "        vertical-align: top;\n",
       "    }\n",
       "\n",
       "    .dataframe thead th {\n",
       "        text-align: right;\n",
       "    }\n",
       "</style>\n",
       "<table border=\"1\" class=\"dataframe\">\n",
       "  <thead>\n",
       "    <tr style=\"text-align: right;\">\n",
       "      <th></th>\n",
       "      <th>alpha</th>\n",
       "      <th>beta</th>\n",
       "      <th>R-Squared</th>\n",
       "    </tr>\n",
       "  </thead>\n",
       "  <tbody>\n",
       "    <tr>\n",
       "      <th>Inception-2011</th>\n",
       "      <td>-0.005751</td>\n",
       "      <td>0.539615</td>\n",
       "      <td>0.507129</td>\n",
       "    </tr>\n",
       "    <tr>\n",
       "      <th>2012-Present</th>\n",
       "      <td>-0.028521</td>\n",
       "      <td>0.568297</td>\n",
       "      <td>0.763293</td>\n",
       "    </tr>\n",
       "    <tr>\n",
       "      <th>Inception-Present</th>\n",
       "      <td>-0.013511</td>\n",
       "      <td>0.546054</td>\n",
       "      <td>0.566804</td>\n",
       "    </tr>\n",
       "  </tbody>\n",
       "</table>\n",
       "</div>"
      ],
      "text/plain": [
       "                      alpha      beta  R-Squared\n",
       "Inception-2011    -0.005751  0.539615   0.507129\n",
       "2012-Present      -0.028521  0.568297   0.763293\n",
       "Inception-Present -0.013511  0.546054   0.566804"
      ]
     },
     "execution_count": 109,
     "metadata": {},
     "output_type": "execute_result"
    }
   ],
   "source": [
    "a1=regression(r_excess.GMWAX.loc[:\"2011\"],r_excess.SPY.loc[:\"2011\"],\"Inception-2011\")\n",
    "a2=regression(r_excess.GMWAX.loc[\"2012\":],r_excess.SPY.loc[\"2012\":],\"2012-Present\")\n",
    "a3=regression(r_excess.GMWAX,r_excess.SPY,\"Inception-Present\")\n",
    "a = pd.concat([a1,a2,a3])\n",
    "a"
   ]
  },
  {
   "cell_type": "markdown",
   "id": "36fa6386",
   "metadata": {},
   "source": [
    "(b) Is GMWAX a low-beta strategy? Has that changed since the case?"
   ]
  },
  {
   "cell_type": "markdown",
   "id": "51eefcbe",
   "metadata": {},
   "source": [
    "Yes, the beta is less. No the beta has not increased since the case as well."
   ]
  },
  {
   "cell_type": "markdown",
   "id": "7ea81bd5",
   "metadata": {},
   "source": [
    "(c) Does GMWAX provide alpha? Has that changed across the subsamples?"
   ]
  },
  {
   "cell_type": "markdown",
   "id": "abc2b9e5",
   "metadata": {},
   "source": [
    "The Alpha is negative. It doesn't provide any positive alpha.The Alpha has changed from -0.575% to -2.85%"
   ]
  },
  {
   "cell_type": "markdown",
   "id": "a021e2c4",
   "metadata": {},
   "source": [
    "### Q3)Forecast Regressions\n",
    "Consider the lagged regression, where the regressor, (X,) is a period behind the target, (rSPY )."
   ]
  },
  {
   "cell_type": "code",
   "execution_count": 148,
   "id": "c5dcba69",
   "metadata": {},
   "outputs": [
    {
     "data": {
      "text/html": [
       "<div>\n",
       "<style scoped>\n",
       "    .dataframe tbody tr th:only-of-type {\n",
       "        vertical-align: middle;\n",
       "    }\n",
       "\n",
       "    .dataframe tbody tr th {\n",
       "        vertical-align: top;\n",
       "    }\n",
       "\n",
       "    .dataframe thead th {\n",
       "        text-align: right;\n",
       "    }\n",
       "</style>\n",
       "<table border=\"1\" class=\"dataframe\">\n",
       "  <thead>\n",
       "    <tr style=\"text-align: right;\">\n",
       "      <th></th>\n",
       "      <th>DP</th>\n",
       "      <th>EP</th>\n",
       "      <th>US10Y</th>\n",
       "    </tr>\n",
       "    <tr>\n",
       "      <th>Date</th>\n",
       "      <th></th>\n",
       "      <th></th>\n",
       "      <th></th>\n",
       "    </tr>\n",
       "  </thead>\n",
       "  <tbody>\n",
       "    <tr>\n",
       "      <th>1993-03-31</th>\n",
       "      <td>2.82</td>\n",
       "      <td>4.44</td>\n",
       "      <td>6.03</td>\n",
       "    </tr>\n",
       "    <tr>\n",
       "      <th>1993-04-30</th>\n",
       "      <td>2.77</td>\n",
       "      <td>4.41</td>\n",
       "      <td>6.03</td>\n",
       "    </tr>\n",
       "    <tr>\n",
       "      <th>1993-05-31</th>\n",
       "      <td>2.82</td>\n",
       "      <td>4.44</td>\n",
       "      <td>6.05</td>\n",
       "    </tr>\n",
       "    <tr>\n",
       "      <th>1993-06-30</th>\n",
       "      <td>2.81</td>\n",
       "      <td>4.38</td>\n",
       "      <td>6.16</td>\n",
       "    </tr>\n",
       "    <tr>\n",
       "      <th>1993-07-31</th>\n",
       "      <td>2.79</td>\n",
       "      <td>4.31</td>\n",
       "      <td>5.80</td>\n",
       "    </tr>\n",
       "  </tbody>\n",
       "</table>\n",
       "</div>"
      ],
      "text/plain": [
       "              DP    EP  US10Y\n",
       "Date                         \n",
       "1993-03-31  2.82  4.44   6.03\n",
       "1993-04-30  2.77  4.41   6.03\n",
       "1993-05-31  2.82  4.44   6.05\n",
       "1993-06-30  2.81  4.38   6.16\n",
       "1993-07-31  2.79  4.31   5.80"
      ]
     },
     "execution_count": 148,
     "metadata": {},
     "output_type": "execute_result"
    }
   ],
   "source": [
    "signals_shifted= signals.shift(1).dropna()\n",
    "signals_shifted.head()"
   ]
  },
  {
   "cell_type": "code",
   "execution_count": 149,
   "id": "b02717ee",
   "metadata": {},
   "outputs": [],
   "source": [
    "SPY_forecast = r_total[[\"SPY\"]].loc[\"1993-03-31\":]"
   ]
  },
  {
   "cell_type": "code",
   "execution_count": 160,
   "id": "0c0f8412",
   "metadata": {},
   "outputs": [],
   "source": [
    "predict =pd.DataFrame(data=None)\n",
    "def regression2(y_df,x_df,name):\n",
    "    reg_stats = pd.DataFrame(data = None)\n",
    "    # Drop the NAs in y\n",
    "    y = y_df.dropna()\n",
    "    # Align the X with y \n",
    "    X = sm.add_constant(x_df.loc[y.index])\n",
    "    reg = sm.OLS(y, X).fit()\n",
    "    reg_stats.loc[name,\"R-Squared\"]=reg.rsquared\n",
    "    predict[name]= reg.predict(X)\n",
    "    return reg_stats"
   ]
  },
  {
   "cell_type": "code",
   "execution_count": 161,
   "id": "a9b1cc80",
   "metadata": {},
   "outputs": [
    {
     "data": {
      "text/html": [
       "<div>\n",
       "<style scoped>\n",
       "    .dataframe tbody tr th:only-of-type {\n",
       "        vertical-align: middle;\n",
       "    }\n",
       "\n",
       "    .dataframe tbody tr th {\n",
       "        vertical-align: top;\n",
       "    }\n",
       "\n",
       "    .dataframe thead th {\n",
       "        text-align: right;\n",
       "    }\n",
       "</style>\n",
       "<table border=\"1\" class=\"dataframe\">\n",
       "  <thead>\n",
       "    <tr style=\"text-align: right;\">\n",
       "      <th></th>\n",
       "      <th>R-Squared</th>\n",
       "    </tr>\n",
       "  </thead>\n",
       "  <tbody>\n",
       "    <tr>\n",
       "      <th>DP</th>\n",
       "      <td>0.006830</td>\n",
       "    </tr>\n",
       "    <tr>\n",
       "      <th>EP</th>\n",
       "      <td>0.007773</td>\n",
       "    </tr>\n",
       "    <tr>\n",
       "      <th>3 Factors</th>\n",
       "      <td>0.015022</td>\n",
       "    </tr>\n",
       "  </tbody>\n",
       "</table>\n",
       "</div>"
      ],
      "text/plain": [
       "           R-Squared\n",
       "DP          0.006830\n",
       "EP          0.007773\n",
       "3 Factors   0.015022"
      ]
     },
     "execution_count": 161,
     "metadata": {},
     "output_type": "execute_result"
    }
   ],
   "source": [
    "r1 = regression2(SPY_forecast,signals_shifted[[\"DP\"]],\"DP\")\n",
    "r2 = regression2(SPY_forecast,signals_shifted[[\"EP\"]],\"EP\")\n",
    "r3 = regression2(SPY_forecast,signals_shifted[[\"DP\",\"EP\",\"US10Y\"]],\"3 Factors\")\n",
    "r4 = pd.concat([r1,r2,r3])\n",
    "r4"
   ]
  },
  {
   "cell_type": "code",
   "execution_count": 172,
   "id": "726d1264",
   "metadata": {},
   "outputs": [
    {
     "data": {
      "text/html": [
       "<div>\n",
       "<style scoped>\n",
       "    .dataframe tbody tr th:only-of-type {\n",
       "        vertical-align: middle;\n",
       "    }\n",
       "\n",
       "    .dataframe tbody tr th {\n",
       "        vertical-align: top;\n",
       "    }\n",
       "\n",
       "    .dataframe thead th {\n",
       "        text-align: right;\n",
       "    }\n",
       "</style>\n",
       "<table border=\"1\" class=\"dataframe\">\n",
       "  <thead>\n",
       "    <tr style=\"text-align: right;\">\n",
       "      <th></th>\n",
       "      <th>DP</th>\n",
       "      <th>EP</th>\n",
       "      <th>3 Factors</th>\n",
       "      <th>SPY</th>\n",
       "    </tr>\n",
       "    <tr>\n",
       "      <th>Date</th>\n",
       "      <th></th>\n",
       "      <th></th>\n",
       "      <th></th>\n",
       "      <th></th>\n",
       "    </tr>\n",
       "  </thead>\n",
       "  <tbody>\n",
       "    <tr>\n",
       "      <th>1993-03-31</th>\n",
       "      <td>0.036656</td>\n",
       "      <td>0.020071</td>\n",
       "      <td>0.026936</td>\n",
       "      <td>0.022408</td>\n",
       "    </tr>\n",
       "    <tr>\n",
       "      <th>1993-04-30</th>\n",
       "      <td>-0.040850</td>\n",
       "      <td>-0.022695</td>\n",
       "      <td>-0.029744</td>\n",
       "      <td>-0.025589</td>\n",
       "    </tr>\n",
       "    <tr>\n",
       "      <th>1993-05-31</th>\n",
       "      <td>0.044119</td>\n",
       "      <td>0.024157</td>\n",
       "      <td>0.032349</td>\n",
       "      <td>0.026970</td>\n",
       "    </tr>\n",
       "    <tr>\n",
       "      <th>1993-06-30</th>\n",
       "      <td>0.005970</td>\n",
       "      <td>0.003220</td>\n",
       "      <td>0.004267</td>\n",
       "      <td>0.003667</td>\n",
       "    </tr>\n",
       "    <tr>\n",
       "      <th>1993-07-31</th>\n",
       "      <td>-0.007828</td>\n",
       "      <td>-0.004164</td>\n",
       "      <td>-0.005729</td>\n",
       "      <td>-0.004855</td>\n",
       "    </tr>\n",
       "  </tbody>\n",
       "</table>\n",
       "</div>"
      ],
      "text/plain": [
       "                  DP        EP  3 Factors       SPY\n",
       "Date                                               \n",
       "1993-03-31  0.036656  0.020071   0.026936  0.022408\n",
       "1993-04-30 -0.040850 -0.022695  -0.029744 -0.025589\n",
       "1993-05-31  0.044119  0.024157   0.032349  0.026970\n",
       "1993-06-30  0.005970  0.003220   0.004267  0.003667\n",
       "1993-07-31 -0.007828 -0.004164  -0.005729 -0.004855"
      ]
     },
     "execution_count": 172,
     "metadata": {},
     "output_type": "execute_result"
    }
   ],
   "source": [
    "strategy =(predict*100).multiply(r_total['SPY'].loc[\"1993-03-31\":],axis=0)\n",
    "strategy[\"SPY\"]= r_total['SPY'].loc[\"1993-03-31\":]\n",
    "strategy.head()"
   ]
  },
  {
   "cell_type": "code",
   "execution_count": 256,
   "id": "1e354d6b",
   "metadata": {},
   "outputs": [],
   "source": [
    "def summary_stats(df, annual_fac):\n",
    "    report = pd.DataFrame()\n",
    "    report['Mean'] = df.mean() * annual_fac\n",
    "    report['Vol'] = df.std() * np.sqrt(annual_fac)\n",
    "    report['Sharpe'] = report['Mean'] / report['Vol']\n",
    "    report['VaR'] = df.quantile(0.05)\n",
    "    wealth_index = 1000*(1+df).cumprod()\n",
    "    previous_peaks = wealth_index.cummax()\n",
    "    drawdown = (wealth_index - previous_peaks)/previous_peaks\n",
    "    report[\"Drawdown\"]= drawdown.min()\n",
    "    return round(report, 4)"
   ]
  },
  {
   "cell_type": "code",
   "execution_count": 199,
   "id": "6f6a8489",
   "metadata": {},
   "outputs": [
    {
     "data": {
      "text/html": [
       "<div>\n",
       "<style scoped>\n",
       "    .dataframe tbody tr th:only-of-type {\n",
       "        vertical-align: middle;\n",
       "    }\n",
       "\n",
       "    .dataframe tbody tr th {\n",
       "        vertical-align: top;\n",
       "    }\n",
       "\n",
       "    .dataframe thead th {\n",
       "        text-align: right;\n",
       "    }\n",
       "</style>\n",
       "<table border=\"1\" class=\"dataframe\">\n",
       "  <thead>\n",
       "    <tr style=\"text-align: right;\">\n",
       "      <th></th>\n",
       "      <th>Mean</th>\n",
       "      <th>Vol</th>\n",
       "      <th>Sharpe</th>\n",
       "      <th>VaR</th>\n",
       "      <th>Drawdown</th>\n",
       "    </tr>\n",
       "  </thead>\n",
       "  <tbody>\n",
       "    <tr>\n",
       "      <th>DP</th>\n",
       "      <td>0.1180</td>\n",
       "      <td>0.1511</td>\n",
       "      <td>0.7809</td>\n",
       "      <td>-0.0579</td>\n",
       "      <td>-0.6415</td>\n",
       "    </tr>\n",
       "    <tr>\n",
       "      <th>EP</th>\n",
       "      <td>0.1200</td>\n",
       "      <td>0.1321</td>\n",
       "      <td>0.9081</td>\n",
       "      <td>-0.0549</td>\n",
       "      <td>-0.3850</td>\n",
       "    </tr>\n",
       "    <tr>\n",
       "      <th>3 Factors</th>\n",
       "      <td>0.1354</td>\n",
       "      <td>0.1499</td>\n",
       "      <td>0.9032</td>\n",
       "      <td>-0.0645</td>\n",
       "      <td>-0.5193</td>\n",
       "    </tr>\n",
       "    <tr>\n",
       "      <th>SPY</th>\n",
       "      <td>0.1114</td>\n",
       "      <td>0.1462</td>\n",
       "      <td>0.7620</td>\n",
       "      <td>-0.0694</td>\n",
       "      <td>-0.5080</td>\n",
       "    </tr>\n",
       "  </tbody>\n",
       "</table>\n",
       "</div>"
      ],
      "text/plain": [
       "             Mean     Vol  Sharpe     VaR  Drawdown\n",
       "DP         0.1180  0.1511  0.7809 -0.0579   -0.6415\n",
       "EP         0.1200  0.1321  0.9081 -0.0549   -0.3850\n",
       "3 Factors  0.1354  0.1499  0.9032 -0.0645   -0.5193\n",
       "SPY        0.1114  0.1462  0.7620 -0.0694   -0.5080"
      ]
     },
     "execution_count": 199,
     "metadata": {},
     "output_type": "execute_result"
    }
   ],
   "source": [
    "summary_stats(strategy, 12)"
   ]
  },
  {
   "cell_type": "code",
   "execution_count": 260,
   "id": "3bb94232",
   "metadata": {},
   "outputs": [
    {
     "data": {
      "text/html": [
       "<div>\n",
       "<style scoped>\n",
       "    .dataframe tbody tr th:only-of-type {\n",
       "        vertical-align: middle;\n",
       "    }\n",
       "\n",
       "    .dataframe tbody tr th {\n",
       "        vertical-align: top;\n",
       "    }\n",
       "\n",
       "    .dataframe thead th {\n",
       "        text-align: right;\n",
       "    }\n",
       "</style>\n",
       "<table border=\"1\" class=\"dataframe\">\n",
       "  <thead>\n",
       "    <tr style=\"text-align: right;\">\n",
       "      <th></th>\n",
       "      <th>alpha</th>\n",
       "      <th>beta</th>\n",
       "      <th>R-Squared</th>\n",
       "      <th>IR</th>\n",
       "    </tr>\n",
       "  </thead>\n",
       "  <tbody>\n",
       "    <tr>\n",
       "      <th>DP</th>\n",
       "      <td>0.013172</td>\n",
       "      <td>0.940695</td>\n",
       "      <td>0.828754</td>\n",
       "      <td>0.210708</td>\n",
       "    </tr>\n",
       "    <tr>\n",
       "      <th>EP</th>\n",
       "      <td>0.031071</td>\n",
       "      <td>0.798050</td>\n",
       "      <td>0.779833</td>\n",
       "      <td>0.501224</td>\n",
       "    </tr>\n",
       "    <tr>\n",
       "      <th>3 Factors</th>\n",
       "      <td>0.040830</td>\n",
       "      <td>0.849104</td>\n",
       "      <td>0.685469</td>\n",
       "      <td>0.485577</td>\n",
       "    </tr>\n",
       "  </tbody>\n",
       "</table>\n",
       "</div>"
      ],
      "text/plain": [
       "              alpha      beta  R-Squared        IR\n",
       "DP         0.013172  0.940695   0.828754  0.210708\n",
       "EP         0.031071  0.798050   0.779833  0.501224\n",
       "3 Factors  0.040830  0.849104   0.685469  0.485577"
      ]
     },
     "execution_count": 260,
     "metadata": {},
     "output_type": "execute_result"
    }
   ],
   "source": [
    "b1 = regression(strategy.DP,strategy.SPY.dropna(),\"DP\")\n",
    "b2 = regression(strategy.EP,strategy.SPY,\"EP\")\n",
    "b3 = regression(strategy[\"3 Factors\"],strategy.SPY,\"3 Factors\")\n",
    "b4 = pd.concat([b1,b2,b3])\n",
    "b4"
   ]
  },
  {
   "cell_type": "markdown",
   "id": "4021ae14",
   "metadata": {},
   "source": [
    "### GMO believes a risk premium is compensation for a security's tendency to lose money at bad times\". Let's consider risk characteristics."
   ]
  },
  {
   "cell_type": "markdown",
   "id": "bbcd1906",
   "metadata": {},
   "source": [
    "(a)For both strategies, the market, and GMO, calculate the monthly VaR for   = :05. Just\n",
    "use the quantile of the historic data for this VaR calculation."
   ]
  },
  {
   "cell_type": "markdown",
   "id": "ffbe4ad1",
   "metadata": {},
   "source": [
    "The VaR is highest for the 3 Factor Model prediction using DP,EP and US10Y"
   ]
  },
  {
   "cell_type": "markdown",
   "id": "7608f644",
   "metadata": {},
   "source": [
    "(b)The GMO case mentions that stocks under-performed short-term bonds from 2000-2011.\n",
    "Does the dynamic portfolio above under-perform the risk-free rate over this time?"
   ]
  },
  {
   "cell_type": "code",
   "execution_count": 205,
   "id": "093cf30a",
   "metadata": {},
   "outputs": [
    {
     "data": {
      "text/plain": [
       "DP           0.036507\n",
       "EP           0.036712\n",
       "3 Factors    0.059687\n",
       "SPY          0.018159\n",
       "Rf           0.023062\n",
       "dtype: float64"
      ]
     },
     "execution_count": 205,
     "metadata": {},
     "output_type": "execute_result"
    }
   ],
   "source": [
    "strategy[\"Rf\"]= rf['US3M'].loc[\"1993-03-31\":]\n",
    "strategy.loc[\"2000\":\"2011\"].mean()*12"
   ]
  },
  {
   "cell_type": "markdown",
   "id": "ba04ab4f",
   "metadata": {},
   "source": [
    "No the Dynamic portfolio doesn't underform Rf. The returns are greater than Risk free rate."
   ]
  },
  {
   "cell_type": "markdown",
   "id": "6cb39d14",
   "metadata": {},
   "source": [
    "(c)Based on the regression estimates, in how many periods do we estimate a negative risk\n",
    "premium?"
   ]
  },
  {
   "cell_type": "code",
   "execution_count": 237,
   "id": "2924c3b6",
   "metadata": {},
   "outputs": [],
   "source": [
    "strategy[\"Excess\"]= np.where(strategy[\"3 Factors\"]<strategy.Rf,True,False)"
   ]
  },
  {
   "cell_type": "code",
   "execution_count": 238,
   "id": "d5222239",
   "metadata": {},
   "outputs": [
    {
     "data": {
      "text/plain": [
       "0.375"
      ]
     },
     "execution_count": 238,
     "metadata": {},
     "output_type": "execute_result"
    }
   ],
   "source": [
    "len(strategy[strategy[\"Excess\"]==True])/len(strategy[\"Excess\"])"
   ]
  },
  {
   "cell_type": "markdown",
   "id": "85c9447e",
   "metadata": {},
   "source": [
    "Do you believe the dynamic strategy takes on extra risk??"
   ]
  },
  {
   "cell_type": "markdown",
   "id": "40c8fdd6",
   "metadata": {},
   "source": [
    "No, the dynamic stategy has the highest Sharpe ratio. It doesn't take on extra risk."
   ]
  },
  {
   "cell_type": "markdown",
   "id": "c0dc2f01",
   "metadata": {},
   "source": [
    "### 4 Out-of-Sample Forecasting"
   ]
  },
  {
   "cell_type": "code",
   "execution_count": 243,
   "id": "0dc66426",
   "metadata": {},
   "outputs": [],
   "source": [
    "X =sm.add_constant(signals_shifted.EP)\n",
    "Y =SPY_forecast\n",
    "\n",
    "### Initialize the error lists \n",
    "err_x = np.array([])\n",
    "err_null = np.array([])\n",
    "predOOS =np.array([])\n",
    "for i in range(60, len(X)):\n",
    "    ### Data up to t\n",
    "    curr_X = X.iloc[:i]\n",
    "    curr_y = Y.iloc[:i]\n",
    "    \n",
    "    ### Fit the model on data through t-1\n",
    "    model =sm.OLS(curr_y, curr_X, missing='drop').fit()\n",
    "   \n",
    "\n",
    "    ### Reshape the matrix so we can input it to predict\n",
    "    predict_y = model.predict(X.iloc[i].values.reshape(1, -1))[0]\n",
    "    \n",
    "    ### Actual OOS value\n",
    "    actual_y = y.iloc[i]\n",
    "    \n",
    "    ### The expanding mean is our baseline for OOS r2, curr_y has data from time 1 to time t-1\n",
    "    expanding_mean = curr_y.mean()\n",
    "    \n",
    "    ### Append the errors, which we will use to calculate OOS r2\n",
    "    err_x = np.append(err_x, actual_y - predict_y)\n",
    "    err_null = np.append(err_null, actual_y - expanding_mean)\n",
    "    predOOS = np.append(predOOS,predict_y)"
   ]
  },
  {
   "cell_type": "code",
   "execution_count": 244,
   "id": "8bb53b38",
   "metadata": {},
   "outputs": [
    {
     "name": "stdout",
     "output_type": "stream",
     "text": [
      "OOS r-squared: -0.0074\n"
     ]
    }
   ],
   "source": [
    "r_sqr_oos = 1 - np.square(err_x).sum() / np.square(err_null).sum()\n",
    "print('OOS r-squared: ' + str(round(r_sqr_oos, 4)))"
   ]
  },
  {
   "cell_type": "markdown",
   "id": "531ccfeb",
   "metadata": {},
   "source": [
    "Did this forecasting strategy produce a positive OOS r-squared?\n",
    "No it doesn't produce a positive OOS R Squared. It's infact negative 0.0074"
   ]
  },
  {
   "cell_type": "markdown",
   "id": "762ef949",
   "metadata": {},
   "source": [
    "### 4.2. Re-do problem 3.2 using this OOS forecast. How much better/worse is the OOS Earnings-Price ratio strategy compared to the in-sample version of 3.2? "
   ]
  },
  {
   "cell_type": "code",
   "execution_count": 268,
   "id": "9e11a8c8",
   "metadata": {},
   "outputs": [
    {
     "data": {
      "text/html": [
       "<div>\n",
       "<style scoped>\n",
       "    .dataframe tbody tr th:only-of-type {\n",
       "        vertical-align: middle;\n",
       "    }\n",
       "\n",
       "    .dataframe tbody tr th {\n",
       "        vertical-align: top;\n",
       "    }\n",
       "\n",
       "    .dataframe thead th {\n",
       "        text-align: right;\n",
       "    }\n",
       "</style>\n",
       "<table border=\"1\" class=\"dataframe\">\n",
       "  <thead>\n",
       "    <tr style=\"text-align: right;\">\n",
       "      <th></th>\n",
       "      <th>predOOS</th>\n",
       "      <th>SPY</th>\n",
       "    </tr>\n",
       "    <tr>\n",
       "      <th>Date</th>\n",
       "      <th></th>\n",
       "      <th></th>\n",
       "    </tr>\n",
       "  </thead>\n",
       "  <tbody>\n",
       "    <tr>\n",
       "      <th>1998-03-31</th>\n",
       "      <td>0.045644</td>\n",
       "      <td>0.048758</td>\n",
       "    </tr>\n",
       "    <tr>\n",
       "      <th>1998-04-30</th>\n",
       "      <td>0.014350</td>\n",
       "      <td>0.012791</td>\n",
       "    </tr>\n",
       "    <tr>\n",
       "      <th>1998-05-31</th>\n",
       "      <td>-0.022508</td>\n",
       "      <td>-0.020769</td>\n",
       "    </tr>\n",
       "    <tr>\n",
       "      <th>1998-06-30</th>\n",
       "      <td>0.035103</td>\n",
       "      <td>0.042591</td>\n",
       "    </tr>\n",
       "    <tr>\n",
       "      <th>1998-07-31</th>\n",
       "      <td>-0.014576</td>\n",
       "      <td>-0.013514</td>\n",
       "    </tr>\n",
       "    <tr>\n",
       "      <th>...</th>\n",
       "      <td>...</td>\n",
       "      <td>...</td>\n",
       "    </tr>\n",
       "    <tr>\n",
       "      <th>2021-06-30</th>\n",
       "      <td>0.013377</td>\n",
       "      <td>0.022473</td>\n",
       "    </tr>\n",
       "    <tr>\n",
       "      <th>2021-07-31</th>\n",
       "      <td>0.004363</td>\n",
       "      <td>0.024412</td>\n",
       "    </tr>\n",
       "    <tr>\n",
       "      <th>2021-08-31</th>\n",
       "      <td>0.019158</td>\n",
       "      <td>0.029760</td>\n",
       "    </tr>\n",
       "    <tr>\n",
       "      <th>2021-09-30</th>\n",
       "      <td>-0.019298</td>\n",
       "      <td>-0.046575</td>\n",
       "    </tr>\n",
       "    <tr>\n",
       "      <th>2021-10-31</th>\n",
       "      <td>0.029390</td>\n",
       "      <td>0.070164</td>\n",
       "    </tr>\n",
       "  </tbody>\n",
       "</table>\n",
       "<p>284 rows × 2 columns</p>\n",
       "</div>"
      ],
      "text/plain": [
       "             predOOS       SPY\n",
       "Date                          \n",
       "1998-03-31  0.045644  0.048758\n",
       "1998-04-30  0.014350  0.012791\n",
       "1998-05-31 -0.022508 -0.020769\n",
       "1998-06-30  0.035103  0.042591\n",
       "1998-07-31 -0.014576 -0.013514\n",
       "...              ...       ...\n",
       "2021-06-30  0.013377  0.022473\n",
       "2021-07-31  0.004363  0.024412\n",
       "2021-08-31  0.019158  0.029760\n",
       "2021-09-30 -0.019298 -0.046575\n",
       "2021-10-31  0.029390  0.070164\n",
       "\n",
       "[284 rows x 2 columns]"
      ]
     },
     "execution_count": 268,
     "metadata": {},
     "output_type": "execute_result"
    }
   ],
   "source": [
    "predOOSdf = pd.DataFrame(predOOS,index=r_total['SPY'].iloc[61:].index,columns=['predOOS'])\n",
    "wt_predOOS = (predOOSdf*100).multiply(r_total['SPY'].loc[\"1998-03-31\":],axis=0)\n",
    "wt_predOOS[\"SPY\"]=r_total['SPY'].loc[\"1998-03-31\":]\n",
    "wt_predOOS"
   ]
  },
  {
   "cell_type": "code",
   "execution_count": 269,
   "id": "4281ae38",
   "metadata": {},
   "outputs": [
    {
     "data": {
      "text/html": [
       "<div>\n",
       "<style scoped>\n",
       "    .dataframe tbody tr th:only-of-type {\n",
       "        vertical-align: middle;\n",
       "    }\n",
       "\n",
       "    .dataframe tbody tr th {\n",
       "        vertical-align: top;\n",
       "    }\n",
       "\n",
       "    .dataframe thead th {\n",
       "        text-align: right;\n",
       "    }\n",
       "</style>\n",
       "<table border=\"1\" class=\"dataframe\">\n",
       "  <thead>\n",
       "    <tr style=\"text-align: right;\">\n",
       "      <th></th>\n",
       "      <th>Mean</th>\n",
       "      <th>Vol</th>\n",
       "      <th>Sharpe</th>\n",
       "      <th>VaR</th>\n",
       "      <th>Drawdown</th>\n",
       "    </tr>\n",
       "  </thead>\n",
       "  <tbody>\n",
       "    <tr>\n",
       "      <th>predOOS</th>\n",
       "      <td>0.0870</td>\n",
       "      <td>0.1633</td>\n",
       "      <td>0.5331</td>\n",
       "      <td>-0.0671</td>\n",
       "      <td>-0.5837</td>\n",
       "    </tr>\n",
       "    <tr>\n",
       "      <th>SPY</th>\n",
       "      <td>0.0924</td>\n",
       "      <td>0.1526</td>\n",
       "      <td>0.6054</td>\n",
       "      <td>-0.0745</td>\n",
       "      <td>-0.5080</td>\n",
       "    </tr>\n",
       "  </tbody>\n",
       "</table>\n",
       "</div>"
      ],
      "text/plain": [
       "           Mean     Vol  Sharpe     VaR  Drawdown\n",
       "predOOS  0.0870  0.1633  0.5331 -0.0671   -0.5837\n",
       "SPY      0.0924  0.1526  0.6054 -0.0745   -0.5080"
      ]
     },
     "execution_count": 269,
     "metadata": {},
     "output_type": "execute_result"
    }
   ],
   "source": [
    "summary_stats(wt_predOOS, 12)"
   ]
  },
  {
   "cell_type": "code",
   "execution_count": 261,
   "id": "01d00b00",
   "metadata": {},
   "outputs": [
    {
     "data": {
      "text/html": [
       "<div>\n",
       "<style scoped>\n",
       "    .dataframe tbody tr th:only-of-type {\n",
       "        vertical-align: middle;\n",
       "    }\n",
       "\n",
       "    .dataframe tbody tr th {\n",
       "        vertical-align: top;\n",
       "    }\n",
       "\n",
       "    .dataframe thead th {\n",
       "        text-align: right;\n",
       "    }\n",
       "</style>\n",
       "<table border=\"1\" class=\"dataframe\">\n",
       "  <thead>\n",
       "    <tr style=\"text-align: right;\">\n",
       "      <th></th>\n",
       "      <th>alpha</th>\n",
       "      <th>beta</th>\n",
       "      <th>R-Squared</th>\n",
       "      <th>IR</th>\n",
       "    </tr>\n",
       "  </thead>\n",
       "  <tbody>\n",
       "    <tr>\n",
       "      <th>3 Factors</th>\n",
       "      <td>0.040830</td>\n",
       "      <td>0.849104</td>\n",
       "      <td>0.685469</td>\n",
       "      <td>0.485577</td>\n",
       "    </tr>\n",
       "    <tr>\n",
       "      <th>predOOS</th>\n",
       "      <td>0.040106</td>\n",
       "      <td>0.508105</td>\n",
       "      <td>0.225378</td>\n",
       "      <td>0.279084</td>\n",
       "    </tr>\n",
       "  </tbody>\n",
       "</table>\n",
       "</div>"
      ],
      "text/plain": [
       "              alpha      beta  R-Squared        IR\n",
       "3 Factors  0.040830  0.849104   0.685469  0.485577\n",
       "predOOS    0.040106  0.508105   0.225378  0.279084"
      ]
     },
     "execution_count": 261,
     "metadata": {},
     "output_type": "execute_result"
    }
   ],
   "source": [
    "bOOS = regression(wt_predOOS[\"predOOS\"],strategy.SPY,\"predOOS\")\n",
    "b4 = pd.concat([b3,bOOS])\n",
    "b4"
   ]
  },
  {
   "cell_type": "markdown",
   "id": "afda90f1",
   "metadata": {},
   "source": [
    "The OOS performs worse than the insample 3 Factor model. Infact the Information ratio for insample is 48% while the OOS is 27.9%"
   ]
  },
  {
   "cell_type": "markdown",
   "id": "8b5a3876",
   "metadata": {},
   "source": [
    "### 4.3. Re-do problem 3.3 using this OOS forecast. Is the point-in-time version of the strategy riskier?"
   ]
  },
  {
   "cell_type": "markdown",
   "id": "8436a6ce",
   "metadata": {},
   "source": [
    "The VaR is highest for the OOS forecast only.VaR is -6.71% for OOS while 3 factors is -6.45%"
   ]
  },
  {
   "cell_type": "markdown",
   "id": "990a3383",
   "metadata": {},
   "source": [
    "(b)The GMO case mentions that stocks under-performed short-term bonds from 2000-2011. Does the dynamic portfolio above under-perform the risk-free rate over this time?"
   ]
  },
  {
   "cell_type": "code",
   "execution_count": 263,
   "id": "6e63232f",
   "metadata": {},
   "outputs": [
    {
     "data": {
      "text/plain": [
       "predOOS    0.038768\n",
       "SPY        0.018159\n",
       "Rf         0.023062\n",
       "dtype: float64"
      ]
     },
     "execution_count": 263,
     "metadata": {},
     "output_type": "execute_result"
    }
   ],
   "source": [
    "wt_predOOS[\"Rf\"]= rf['US3M'].loc[\"1998-03-31\":]\n",
    "wt_predOOS.loc[\"2000\":\"2011\"].mean()*12"
   ]
  },
  {
   "cell_type": "markdown",
   "id": "335c1d02",
   "metadata": {},
   "source": [
    "The dynamic portfolio does out-perform Rf."
   ]
  },
  {
   "cell_type": "markdown",
   "id": "0f652c55",
   "metadata": {},
   "source": [
    "Based on the regression estimates, in how many periods do we estimate a negative risk\n",
    "premium?"
   ]
  },
  {
   "cell_type": "code",
   "execution_count": 265,
   "id": "9f7aee70",
   "metadata": {},
   "outputs": [
    {
     "data": {
      "text/plain": [
       "0.3767605633802817"
      ]
     },
     "execution_count": 265,
     "metadata": {},
     "output_type": "execute_result"
    }
   ],
   "source": [
    "wt_predOOS[\"Excess\"]= np.where(wt_predOOS[\"predOOS\"]<wt_predOOS.Rf,True,False)\n",
    "len(wt_predOOS[wt_predOOS[\"Excess\"]==True])/len(wt_predOOS[\"Excess\"])"
   ]
  },
  {
   "cell_type": "markdown",
   "id": "e5c60708",
   "metadata": {},
   "source": [
    "37.67% times we are less than Risk free return"
   ]
  },
  {
   "cell_type": "markdown",
   "id": "561e7216",
   "metadata": {},
   "source": [
    "(d)Do you believe the dynamic strategy takes on extra risk??"
   ]
  },
  {
   "cell_type": "code",
   "execution_count": 270,
   "id": "b14b78f5",
   "metadata": {},
   "outputs": [
    {
     "data": {
      "text/html": [
       "<div>\n",
       "<style scoped>\n",
       "    .dataframe tbody tr th:only-of-type {\n",
       "        vertical-align: middle;\n",
       "    }\n",
       "\n",
       "    .dataframe tbody tr th {\n",
       "        vertical-align: top;\n",
       "    }\n",
       "\n",
       "    .dataframe thead th {\n",
       "        text-align: right;\n",
       "    }\n",
       "</style>\n",
       "<table border=\"1\" class=\"dataframe\">\n",
       "  <thead>\n",
       "    <tr style=\"text-align: right;\">\n",
       "      <th></th>\n",
       "      <th>Mean</th>\n",
       "      <th>Vol</th>\n",
       "      <th>Sharpe</th>\n",
       "      <th>VaR</th>\n",
       "      <th>Drawdown</th>\n",
       "    </tr>\n",
       "  </thead>\n",
       "  <tbody>\n",
       "    <tr>\n",
       "      <th>predOOS</th>\n",
       "      <td>0.0870</td>\n",
       "      <td>0.1633</td>\n",
       "      <td>0.5331</td>\n",
       "      <td>-0.0671</td>\n",
       "      <td>-0.5837</td>\n",
       "    </tr>\n",
       "    <tr>\n",
       "      <th>SPY</th>\n",
       "      <td>0.0924</td>\n",
       "      <td>0.1526</td>\n",
       "      <td>0.6054</td>\n",
       "      <td>-0.0745</td>\n",
       "      <td>-0.5080</td>\n",
       "    </tr>\n",
       "  </tbody>\n",
       "</table>\n",
       "</div>"
      ],
      "text/plain": [
       "           Mean     Vol  Sharpe     VaR  Drawdown\n",
       "predOOS  0.0870  0.1633  0.5331 -0.0671   -0.5837\n",
       "SPY      0.0924  0.1526  0.6054 -0.0745   -0.5080"
      ]
     },
     "execution_count": 270,
     "metadata": {},
     "output_type": "execute_result"
    }
   ],
   "source": [
    "summary_stats(wt_predOOS, 12) "
   ]
  },
  {
   "cell_type": "markdown",
   "id": "938bb0d3",
   "metadata": {},
   "source": [
    "Yes, the strategy takes on extra risk.The Volatility for OOS is 16.33% wheras SPY is 15.26%. Even the Sharpe is lower for OOS."
   ]
  }
 ],
 "metadata": {
  "kernelspec": {
   "display_name": "Python 3",
   "language": "python",
   "name": "python3"
  },
  "language_info": {
   "codemirror_mode": {
    "name": "ipython",
    "version": 3
   },
   "file_extension": ".py",
   "mimetype": "text/x-python",
   "name": "python",
   "nbconvert_exporter": "python",
   "pygments_lexer": "ipython3",
   "version": "3.8.8"
  }
 },
 "nbformat": 4,
 "nbformat_minor": 5
}
